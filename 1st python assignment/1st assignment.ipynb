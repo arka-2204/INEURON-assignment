{
 "cells": [
  {
   "cell_type": "markdown",
   "id": "5279ea93",
   "metadata": {},
   "source": [
    "1. In the below elements which of them are values or an expression? eg:- values can be\n",
    "integer or string and expressions will be mathematical operators.\n",
    "*,hello,-87.8,-,/,+,6"
   ]
  },
  {
   "cell_type": "markdown",
   "id": "50e274fd",
   "metadata": {},
   "source": [
    " ans. * is a operator.hello is a string.-87.8 in integer. - is an operator. / is an operator. + is an operator. 6 is an integer."
   ]
  },
  {
   "cell_type": "markdown",
   "id": "bddf3df6",
   "metadata": {},
   "source": [
    "2. What is the difference between string and variable?\n",
    "\n",
    "ans. String is sequence of character. and the value of the variable can change depending on the conditions."
   ]
  },
  {
   "cell_type": "markdown",
   "id": "e327e49c",
   "metadata": {},
   "source": [
    "3. Describe three different data types.\n",
    "\n",
    "ans. integer e.g.--> 8, 7 ,0, 1 , -4, -6, string e.g.--> \"arka\", \"10012\", boolean e.g. --> True , False"
   ]
  },
  {
   "cell_type": "markdown",
   "id": "42451069",
   "metadata": {},
   "source": [
    "4. What is an expression made up of? What do all expressions do?\n",
    "\n",
    "ans. Expression made of variable, oparators and functions . A meaningful expression can lead to a output.\n"
   ]
  },
  {
   "cell_type": "markdown",
   "id": "e8d8475f",
   "metadata": {},
   "source": [
    "5. This assignment statements, like spam = 10. What is the difference between an\n",
    "expression and a statement?\n",
    "\n",
    "ans. Declaration of any variable called statement. It can not generate any result.An expression in Python is a combination of operators and operands."
   ]
  },
  {
   "cell_type": "markdown",
   "id": "9a548eae",
   "metadata": {},
   "source": [
    "6. After running the following code, what does the variable bacon contain?\n",
    "\n",
    "bacon = 22\n",
    "\n",
    "bacon + 1\n",
    "\n",
    "ans. Bacon contains the value which was declared in beginning i.e. 22"
   ]
  },
  {
   "cell_type": "markdown",
   "id": "6030011f",
   "metadata": {},
   "source": [
    "7. What should the values of the following two terms be?\n",
    "\n",
    "print('spam'+'spamspam')\n",
    "\n",
    "print('spam'*3)"
   ]
  },
  {
   "cell_type": "code",
   "execution_count": 10,
   "id": "141a70cb",
   "metadata": {},
   "outputs": [
    {
     "name": "stdout",
     "output_type": "stream",
     "text": [
      "spamspamspam\n",
      "spamspamspam\n"
     ]
    }
   ],
   "source": [
    "print('spam'+'spamspam');print('spam'*3)"
   ]
  },
  {
   "cell_type": "markdown",
   "id": "b73419bc",
   "metadata": {},
   "source": [
    "8. Why is eggs a valid variable name while 100 is invalid?\n",
    "\n",
    "ans. Eggs is a valid variable name because the value it contains that is more than 1. And eggs is the plural form of egg which indicates single egg."
   ]
  },
  {
   "cell_type": "markdown",
   "id": "0f2fc14e",
   "metadata": {},
   "source": [
    "9. What three functions can be used to get the integer, floating-point number, or string\n",
    "version of a value?\n",
    "\n",
    "ans. int() for integer , float() for floating point number, str() to get string value."
   ]
  },
  {
   "cell_type": "markdown",
   "id": "cabb1674",
   "metadata": {},
   "source": [
    "10. Why does this expression cause an error? How can you fix it?\n",
    "'I have eaten' + 99 +'burritos'\n",
    "\n",
    "ans. only string variables can be concatenate . 'str 1' +'str 2' can be possible. To overcome this problem new epression will be 'I have eaten ' + '99 '+'burritos'"
   ]
  },
  {
   "cell_type": "code",
   "execution_count": 15,
   "id": "a66226ab",
   "metadata": {},
   "outputs": [
    {
     "name": "stdout",
     "output_type": "stream",
     "text": [
      "I have eaten 99 burritos\n"
     ]
    }
   ],
   "source": [
    "print('I have eaten ' + '99 '+'burritos')"
   ]
  },
  {
   "cell_type": "code",
   "execution_count": null,
   "id": "76b2a188",
   "metadata": {},
   "outputs": [],
   "source": []
  }
 ],
 "metadata": {
  "kernelspec": {
   "display_name": "Python 3 (ipykernel)",
   "language": "python",
   "name": "python3"
  },
  "language_info": {
   "codemirror_mode": {
    "name": "ipython",
    "version": 3
   },
   "file_extension": ".py",
   "mimetype": "text/x-python",
   "name": "python",
   "nbconvert_exporter": "python",
   "pygments_lexer": "ipython3",
   "version": "3.10.9"
  }
 },
 "nbformat": 4,
 "nbformat_minor": 5
}
