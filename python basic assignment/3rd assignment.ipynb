{
 "cells": [
  {
   "cell_type": "markdown",
   "id": "c4fc7b00",
   "metadata": {},
   "source": []
  },
  {
   "cell_type": "markdown",
   "id": "061abe2c",
   "metadata": {},
   "source": [
    "1.Why are functions advantageous to have in your programs?\n",
    "\n",
    "ans. It is easy to perform several task by executing one block of code.\n"
   ]
  },
  {
   "cell_type": "code",
   "execution_count": 4,
   "id": "dba2c012",
   "metadata": {},
   "outputs": [
    {
     "data": {
      "text/plain": [
       "(4, -2)"
      ]
     },
     "execution_count": 4,
     "metadata": {},
     "output_type": "execute_result"
    }
   ],
   "source": [
    "#example\n",
    "def math(a,b):\n",
    "    return a+b, a-b\n",
    "math(1,3)\n",
    "#normal code \n",
    "#print(1+3)\n",
    "#print(1-3)"
   ]
  },
  {
   "cell_type": "markdown",
   "id": "9f8b603c",
   "metadata": {},
   "source": [
    "2.When does the code in a function run: when it's specified or when it's called?\n",
    "\n",
    "ans. So, to call or to run a function we have to pass function defination name along with parameter what specified into that function while creation.We have to pass those parameter inorder to get output for that function.\n"
   ]
  },
  {
   "cell_type": "code",
   "execution_count": 6,
   "id": "ee89c5b2",
   "metadata": {},
   "outputs": [
    {
     "name": "stdout",
     "output_type": "stream",
     "text": [
      "3\n"
     ]
    }
   ],
   "source": [
    "def math(a,b): # here 'math' is the fun def name  \n",
    "    c=a+b\n",
    "    print(c)\n",
    "math(1,2) # function name (parameter,parameter)"
   ]
  },
  {
   "cell_type": "markdown",
   "id": "36a7ff8c",
   "metadata": {},
   "source": [
    "3.What statement creates a function?\n",
    "\n",
    "ans. In python define a function with the def keyword, then write the function identifier (name) followed by parentheses and a colon.\n",
    "<br>\n",
    "'''\n",
    "<br>\n",
    "def xyz():\n",
    "<br>\n",
    "    task1(statement)\n",
    "    <br>\n",
    "    task2(statement)\n",
    "    <br>\n",
    "    return\n",
    "    <br>\n",
    "'''"
   ]
  },
  {
   "cell_type": "markdown",
   "id": "e45d14e7",
   "metadata": {},
   "source": [
    "4.What is the difference between a function and a function call?\n",
    "\n",
    "ans. A function is a set of code or command to perform while pass certain parameters. To perform any task with alrady created function in called as function call."
   ]
  },
  {
   "cell_type": "code",
   "execution_count": 14,
   "id": "debe6c06",
   "metadata": {},
   "outputs": [
    {
     "data": {
      "text/plain": [
       "'Hey there this is Arka'"
      ]
     },
     "execution_count": 14,
     "metadata": {},
     "output_type": "execute_result"
    }
   ],
   "source": [
    "#e.g\n",
    "\n",
    "def name(name):\n",
    "    \n",
    "    '''\n",
    "    this is the body of \n",
    "    function.\n",
    "    '''\n",
    "    return \"Hey there this is \"+name\n",
    "\n",
    "\n",
    "name(\"Arka\") # funtion called here"
   ]
  },
  {
   "cell_type": "markdown",
   "id": "def1cef8",
   "metadata": {},
   "source": [
    "5.How many global scopes are there in a Python program? How many local scopes?\n",
    "\n",
    "ans.Python Global variables are those which are not defined inside any function and have a global scope whereas Python local variables are those which are defined inside a function and their scope is limited to that function only.There always have at least two active scopes, which are the global and built-in scopes."
   ]
  },
  {
   "cell_type": "code",
   "execution_count": 15,
   "id": "db13e326",
   "metadata": {},
   "outputs": [],
   "source": [
    "var_global=10\n",
    "def fun():\n",
    "    var_local\n",
    "    return var_local\n"
   ]
  },
  {
   "cell_type": "markdown",
   "id": "5af7f487",
   "metadata": {},
   "source": [
    "6.What happens to variables in a local scope when the function call returns?\n",
    "\n",
    "ans. The value of that local scope will be reset or clear."
   ]
  },
  {
   "cell_type": "markdown",
   "id": "f20e3f96",
   "metadata": {},
   "source": [
    "7.What is the concept of a return value? Is it possible to have a return value in an expression?\n",
    "\n",
    "ans. To give back result where the function was called.A value-returning function should include a return statement, containing an expression"
   ]
  },
  {
   "cell_type": "markdown",
   "id": "95ac0089",
   "metadata": {},
   "source": [
    "8.If a function does not have a return statement, what is the return value of a call to that function?\n",
    "\n",
    "ans. That function will return nothing."
   ]
  },
  {
   "cell_type": "code",
   "execution_count": 17,
   "id": "16b7988d",
   "metadata": {},
   "outputs": [],
   "source": [
    "def sum(a,b):\n",
    "    c=a+b\n",
    "sum(1,2)# no output will be shown"
   ]
  },
  {
   "cell_type": "markdown",
   "id": "dccd52c7",
   "metadata": {},
   "source": [
    "9.How do you make a function variable refer to the global variable?\n",
    "\n",
    "ans. By passing global variable to the function.\n"
   ]
  },
  {
   "cell_type": "code",
   "execution_count": 36,
   "id": "cebb1f7c",
   "metadata": {},
   "outputs": [
    {
     "data": {
      "text/plain": [
       "('This is ', 1)"
      ]
     },
     "execution_count": 36,
     "metadata": {},
     "output_type": "execute_result"
    }
   ],
   "source": [
    "name= \"Arka\"\n",
    "def name_print(int):\n",
    "    return \"This is \",int\n",
    "#print(type(name_print(1)))\n",
    "name_print(1)"
   ]
  },
  {
   "cell_type": "markdown",
   "id": "16e560ba",
   "metadata": {},
   "source": [
    "10.What is the data type of None?\n",
    "\n",
    "ans.  None keyword is an object, and it is a data type of the class NoneType."
   ]
  },
  {
   "cell_type": "code",
   "execution_count": 37,
   "id": "f0fc0cff",
   "metadata": {},
   "outputs": [
    {
     "name": "stdout",
     "output_type": "stream",
     "text": [
      "<class 'NoneType'>\n"
     ]
    }
   ],
   "source": [
    "print(type(None))"
   ]
  },
  {
   "cell_type": "markdown",
   "id": "4e933a55",
   "metadata": {},
   "source": [
    "11.What does the sentence import areallyourpetsnamederic do?\n",
    "\n",
    "ans. That import statement imports a module named areallyourpetsnamederic."
   ]
  },
  {
   "cell_type": "markdown",
   "id": "dcab5f2c",
   "metadata": {},
   "source": [
    "12.If you had a bacon() feature in a spam module, what would you call it after importing spam?\n",
    "\n",
    "ans. spam.bacon()"
   ]
  },
  {
   "cell_type": "markdown",
   "id": "240299a4",
   "metadata": {},
   "source": [
    "13.What can you do to save a programme from crashing if it encounters an error?\n",
    "\n",
    "ans. When it encounters an error, the control is passed to the except block, skipping the code in between. As seen in the above code, we have moved our code inside a try and except statement. Try running the program and it should throw an error message instead of crashing the program."
   ]
  },
  {
   "cell_type": "markdown",
   "id": "77aa62de",
   "metadata": {},
   "source": [
    "14.What is the purpose of the try clause? What is the purpose of the except clause? \n",
    "\n",
    "ans. The try and except block in Python is used to catch and handle exceptions."
   ]
  },
  {
   "cell_type": "code",
   "execution_count": null,
   "id": "dccea464",
   "metadata": {},
   "outputs": [],
   "source": []
  }
 ],
 "metadata": {
  "kernelspec": {
   "display_name": "Python 3 (ipykernel)",
   "language": "python",
   "name": "python3"
  },
  "language_info": {
   "codemirror_mode": {
    "name": "ipython",
    "version": 3
   },
   "file_extension": ".py",
   "mimetype": "text/x-python",
   "name": "python",
   "nbconvert_exporter": "python",
   "pygments_lexer": "ipython3",
   "version": "3.10.9"
  }
 },
 "nbformat": 4,
 "nbformat_minor": 5
}
