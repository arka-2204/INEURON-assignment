{
 "cells": [
  {
   "cell_type": "markdown",
   "id": "20f33fb9",
   "metadata": {},
   "source": [
    "## 2nd python assignment"
   ]
  },
  {
   "cell_type": "markdown",
   "id": "869b840a",
   "metadata": {},
   "source": [
    "1.What are the two values of the Boolean data type? How do you write them?\n",
    "\n",
    "ans. There are two types of boolean data types. Boolean data can be written as 1 and 0 or it can be called as true and false."
   ]
  },
  {
   "cell_type": "markdown",
   "id": "885aaad8",
   "metadata": {},
   "source": [
    "2.What are the three different types of Boolean operators?\n",
    "\n",
    "ans. AND, OR and NOT"
   ]
  },
  {
   "cell_type": "markdown",
   "id": "2a76f7d0",
   "metadata": {},
   "source": [
    "3.Make a list of each Boolean operator's truth tables (i.e. every possible combination of Boolean\n",
    "values for the operator and what it evaluate ).\n",
    "\n",
    "\n",
    "ans.\n",
    "\n",
    "AND table->\n",
    "0 And 0 =0,\n",
    "0 AND 1 =0,\n",
    "1 AND 0 =0,\n",
    "1 AND 1 =1,\n",
    "\n",
    "OR table->\n",
    "0 OR 0 =0,\n",
    "0 OR 1 =1,\n",
    "1 OR 0 =1,\n",
    "1 OR 1 =1,\n",
    "\n",
    "NOT table->\n",
    "IF input 0 =1,\n",
    "IF input 1 =0"
   ]
  },
  {
   "cell_type": "markdown",
   "id": "01fc2e33",
   "metadata": {},
   "source": [
    "4.What are the values of the following expressions?\n",
    "\n",
    "Ans.\n",
    " \n",
    "(5> 4) and (3 == 5) = 1 AND 0 = 0 (FALSE)\n",
    "\n",
    "not (5 > 4)= not(1) = 0 (FALSE)\n",
    "\n",
    "(5 > 4) or (3 == 5) = 1 OR 0 = 1 (TRUE)\n",
    "\n",
    "not ((5 > 4) or (3 == 5)) = 0 (FALSE)\n",
    "\n",
    "(True and True) and (True == False) = False\n",
    "\n",
    "(not False) or (not True) = TRUE\n"
   ]
  },
  {
   "cell_type": "code",
   "execution_count": 3,
   "id": "2ec23b89",
   "metadata": {},
   "outputs": [
    {
     "name": "stdout",
     "output_type": "stream",
     "text": [
      "False\n",
      "False\n",
      "True\n",
      "False\n",
      "False\n",
      "True\n"
     ]
    }
   ],
   "source": [
    "print((5> 4) and (3 == 5) )\n",
    "\n",
    "print(not (5 > 4) )\n",
    "\n",
    "print((5 > 4) or (3 == 5) )\n",
    "\n",
    "print(not ((5 > 4) or (3 == 5))) \n",
    "\n",
    "print((True and True) and (True == False)) \n",
    "\n",
    "print((not False) or (not True))"
   ]
  },
  {
   "cell_type": "markdown",
   "id": "d14a6e17",
   "metadata": {},
   "source": [
    "5.What are the six comparison operators?\n",
    "\n",
    "Ans. Six comparison operators are less than, greater than, less than or equal to, greater than or equal to, equal to, and not equal to"
   ]
  },
  {
   "cell_type": "markdown",
   "id": "99783a4d",
   "metadata": {},
   "source": [
    "6.How do you tell the difference between the equal to and assignment operators?Describe a\n",
    "condition and when you would use one.\n",
    "\n",
    "Ans. In mathematics and algebra, '=' is an equal to operator. In programming '=' is an assignment operator, which means that it assigns a value to a variable.\n",
    "\n",
    "in programming,\n",
    "\n",
    "number = 76 \n",
    "\n",
    "in math,\n",
    "\n",
    "4+6 = 10"
   ]
  },
  {
   "cell_type": "markdown",
   "id": "bf6767c4",
   "metadata": {},
   "source": [
    "7.Identify the three blocks in this code:"
   ]
  },
  {
   "cell_type": "code",
   "execution_count": 2,
   "id": "260a3bcd",
   "metadata": {},
   "outputs": [
    {
     "name": "stdout",
     "output_type": "stream",
     "text": [
      "ham\n",
      "spam\n",
      "spam\n"
     ]
    }
   ],
   "source": [
    "spam =0 \n",
    "if spam==10:\n",
    "    print('eggs')\n",
    "if spam >5:\n",
    "    print('bacon')\n",
    "else:\n",
    "    print('ham')\n",
    "print('spam')\n",
    "print('spam')"
   ]
  },
  {
   "cell_type": "markdown",
   "id": "cddf85a3",
   "metadata": {},
   "source": [
    "8.Write code that prints Hello if 1 is stored in spam, prints Howdy if 2 is stored in spam, and prints\n",
    "Greetings! if anything else is stored in spam.\n",
    "\n",
    "Ans."
   ]
  },
  {
   "cell_type": "code",
   "execution_count": 5,
   "id": "9405b3cc",
   "metadata": {},
   "outputs": [
    {
     "name": "stdout",
     "output_type": "stream",
     "text": [
      "Hello\n",
      "Howdy\n",
      "Greetings\n"
     ]
    }
   ],
   "source": [
    "def spam_num(spam):\n",
    "    if spam==1:\n",
    "        print(\"Hello\")\n",
    "    elif spam==2:\n",
    "        print(\"Howdy\")\n",
    "    else:\n",
    "        print(\"Greetings\")\n",
    "\n",
    "spam_num(1)\n",
    "spam_num(2)\n",
    "spam_num(6)\n"
   ]
  },
  {
   "cell_type": "markdown",
   "id": "10191af5",
   "metadata": {},
   "source": [
    "9.If your programme is stuck in an endless loop, what keys you’ll press?\n",
    "\n",
    "ans. ctrl+c"
   ]
  },
  {
   "cell_type": "markdown",
   "id": "a4b1e614",
   "metadata": {},
   "source": [
    "10.How can you tell the difference between break and continue?\n",
    "\n",
    "ans. Break itself stands for breaking or stop something from doing. Break statement helps to stop a perticular flow or loop during execution. Whereas the continue statement will move the execution to the start of the loop  "
   ]
  },
  {
   "cell_type": "markdown",
   "id": "b88b0ec8",
   "metadata": {},
   "source": [
    "11.In a for loop, what is the difference between range(10), range(0, 10), and range(0, 10, 1)?"
   ]
  },
  {
   "cell_type": "code",
   "execution_count": 18,
   "id": "d1859509",
   "metadata": {},
   "outputs": [
    {
     "name": "stdout",
     "output_type": "stream",
     "text": [
      "0 1 2 3 4 5 6 7 8 9 \n",
      "\n",
      "0 1 2 3 4 5 6 7 8 9 \n",
      "\n",
      "0 1 2 3 4 5 6 7 8 9 "
     ]
    }
   ],
   "source": [
    "#range(start, stop, step)\n",
    "\n",
    "\n",
    "for x in range(10): #range will be first 10 elements which is 0 to 9\n",
    "    print(x,end =\" \")\n",
    "print('\\n')\n",
    "for i in range(0,10): #range will be start from 0 \n",
    "    print(i,end=\" \")\n",
    "print('\\n')\n",
    "for a in range(0,10,1):\n",
    "    print(a, end=\" \")"
   ]
  },
  {
   "cell_type": "markdown",
   "id": "512f7013",
   "metadata": {},
   "source": [
    "12.Write a short program that prints the numbers 1 to 10 using a for loop. Then write an equivalent\n",
    "program that prints the numbers 1 to 10 using a while loop.\n",
    "\n",
    "Ans. "
   ]
  },
  {
   "cell_type": "code",
   "execution_count": 23,
   "id": "6b0c8d43",
   "metadata": {},
   "outputs": [
    {
     "name": "stdout",
     "output_type": "stream",
     "text": [
      "1 2 3 4 5 6 7 8 9 10 \n",
      "\n",
      "1 2 3 4 5 6 7 8 9 10 "
     ]
    }
   ],
   "source": [
    "#using for loop\n",
    "for i in range(1,10+1):\n",
    "    print(i,end=\" \")\n",
    "    \n",
    "print('\\n')\n",
    "#using while loop\n",
    "k=1\n",
    "while k<=10:\n",
    "    print(k,end=\" \")\n",
    "    k+=1"
   ]
  },
  {
   "cell_type": "markdown",
   "id": "1d5d7f84",
   "metadata": {},
   "source": [
    "13.If you had a function named bacon() inside a module named spam, how would you call it after\n",
    "importing spam?\n",
    "\n",
    "Ans. spam.becon()"
   ]
  },
  {
   "cell_type": "code",
   "execution_count": null,
   "id": "3baa8e82",
   "metadata": {},
   "outputs": [],
   "source": []
  }
 ],
 "metadata": {
  "kernelspec": {
   "display_name": "Python 3 (ipykernel)",
   "language": "python",
   "name": "python3"
  },
  "language_info": {
   "codemirror_mode": {
    "name": "ipython",
    "version": 3
   },
   "file_extension": ".py",
   "mimetype": "text/x-python",
   "name": "python",
   "nbconvert_exporter": "python",
   "pygments_lexer": "ipython3",
   "version": "3.10.9"
  }
 },
 "nbformat": 4,
 "nbformat_minor": 5
}
