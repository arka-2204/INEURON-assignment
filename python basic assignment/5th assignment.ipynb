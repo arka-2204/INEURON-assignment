{
 "cells": [
  {
   "cell_type": "markdown",
   "id": "d951809c",
   "metadata": {},
   "source": [
    "1. What does an empty dictionary&#39;s code look like?\n",
    "2. What is the value of a dictionary value with the key &#39;foo&#39; and the value 42?\n",
    "3. What is the most significant distinction between a dictionary and a list?\n",
    "4. What happens if you try to access spam[&#39;foo&#39;] if spam is {&#39;bar&#39;: 100}?\n",
    "5. If a dictionary is stored in spam, what is the difference between the expressions &#39;cat&#39; in spam and\n",
    "&#39;cat&#39; in spam.keys()?\n",
    "6. If a dictionary is stored in spam, what is the difference between the expressions &#39;cat&#39; in spam and\n",
    "&#39;cat&#39; in spam.values()?\n",
    "7. What is a shortcut for the following code?\n",
    "if &#39;color&#39; not in spam:\n",
    "spam[&#39;color&#39;] = &#39;black&#39;\n",
    "\n",
    "8. How do you &quot;pretty print&quot; dictionary values using which module and function?"
   ]
  },
  {
   "cell_type": "markdown",
   "id": "bd3d16ce",
   "metadata": {},
   "source": [
    "1.What does an empty dictionary's code look like?\n",
    "\n",
    "ans. In python dictionary is a data type. Empty dictionary look like `{}`"
   ]
  },
  {
   "cell_type": "markdown",
   "id": "1fd77795",
   "metadata": {},
   "source": [
    "2.What is the value of a dictionary value with the key 'foo' and the value 42?\n",
    "\n",
    "ans . `{'foo':42}`"
   ]
  },
  {
   "cell_type": "markdown",
   "id": "fcaa50c1",
   "metadata": {},
   "source": [
    "3.What is the most significant distinction between a dictionary and a list?\n",
    "\n",
    "ans . Dictionary is represented by `{}` and List is represented by `[]`"
   ]
  },
  {
   "cell_type": "markdown",
   "id": "7661d973",
   "metadata": {},
   "source": [
    "4.What happens if you try to access spam['foo'] if spam is {'bar': 100}?\n",
    "\n",
    "ans . There will be a keyword error. As foo is not initialize."
   ]
  },
  {
   "cell_type": "markdown",
   "id": "2d8a87e3",
   "metadata": {},
   "source": [
    "5.If a dictionary is stored in spam, what is the difference between the expressions 'cat' in spam and 'cat' in spam.keys()?\n",
    "\n",
    "ans. There will be no difference."
   ]
  },
  {
   "cell_type": "markdown",
   "id": "119a638e",
   "metadata": {},
   "source": [
    "6.If a dictionary is stored in spam, what is the difference between the expressions 'cat' in spam and 'cat' in spam.values()?\n",
    "\n",
    "ans. `'cat' in spam` checks if the key name 'cat' is present in dictionary or not. Where `'cat' in spam.values()` checks if 'cat' is a value of dictionary for any key or not."
   ]
  },
  {
   "cell_type": "markdown",
   "id": "6e0cf57c",
   "metadata": {},
   "source": [
    "7.What is a shortcut for the following code? if 'color' not in spam: spam['color'] = 'black'\n",
    "\n",
    "ans. spam.setdefault('color','black')"
   ]
  },
  {
   "cell_type": "markdown",
   "id": "64f02420",
   "metadata": {},
   "source": [
    "8.How do you \"pretty print\" dictionary values using which module and function?\n",
    "\n",
    "ans. "
   ]
  },
  {
   "cell_type": "code",
   "execution_count": 8,
   "id": "0b81f68f",
   "metadata": {},
   "outputs": [],
   "source": [
    "my_dict=[\n",
    "        {'name':'Arka','age':22, 'location':{'city':'Suri','Pin code':731101}},\n",
    "        {'name':'Abir','age':23, 'location':{'city':'Katwa','Pin code':729002}}\n",
    "]"
   ]
  },
  {
   "cell_type": "code",
   "execution_count": 13,
   "id": "8c7b57ef",
   "metadata": {},
   "outputs": [
    {
     "name": "stdout",
     "output_type": "stream",
     "text": [
      "[{'name': 'Arka', 'age': 22, 'location': {'city': 'Suri', 'Pin code': 731101}}, {'name': 'Abir', 'age': 23, 'location': {'city': 'Katwa', 'Pin code': 729002}}]\n"
     ]
    }
   ],
   "source": [
    "print(my_dict)"
   ]
  },
  {
   "cell_type": "code",
   "execution_count": 20,
   "id": "d3981bd8",
   "metadata": {},
   "outputs": [
    {
     "name": "stdout",
     "output_type": "stream",
     "text": [
      "[{'age': 22,\n",
      "  'location': {'Pin code': 731101,\n",
      "               'city': 'Suri'},\n",
      "  'name': 'Arka'},\n",
      " {'age': 23,\n",
      "  'location': {'Pin code': 729002,\n",
      "               'city': 'Katwa'},\n",
      "  'name': 'Abir'}]\n",
      "----------------------------------------------------------------------\n",
      "[{'age': 22, 'location': {'Pin code': 731101, 'city': 'Suri'}, 'name': 'Arka'},\n",
      " {'age': 23, 'location': {'Pin code': 729002, 'city': 'Katwa'}, 'name': 'Abir'}]\n"
     ]
    }
   ],
   "source": [
    "import pprint\n",
    "pprint.pprint(my_dict,width=1)\n",
    "print('-'*70)\n",
    "pprint.pprint(my_dict)"
   ]
  },
  {
   "cell_type": "code",
   "execution_count": 23,
   "id": "d25da283",
   "metadata": {},
   "outputs": [
    {
     "name": "stdout",
     "output_type": "stream",
     "text": [
      "[\n",
      "     {\n",
      "          \"name\": \"Arka\",\n",
      "          \"age\": 22,\n",
      "          \"location\": {\n",
      "               \"city\": \"Suri\",\n",
      "               \"Pin code\": 731101\n",
      "          }\n",
      "     },\n",
      "     {\n",
      "          \"name\": \"Abir\",\n",
      "          \"age\": 23,\n",
      "          \"location\": {\n",
      "               \"city\": \"Katwa\",\n",
      "               \"Pin code\": 729002\n",
      "          }\n",
      "     }\n",
      "]\n"
     ]
    }
   ],
   "source": [
    "import json\n",
    "json_dump = json.dumps(my_dict,indent=5)\n",
    "print(json_dump)"
   ]
  },
  {
   "cell_type": "code",
   "execution_count": 29,
   "id": "ea47a26a",
   "metadata": {},
   "outputs": [
    {
     "name": "stdout",
     "output_type": "stream",
     "text": [
      "[{'name': 'Arka', 'age': 22, 'location': {'city': 'Suri', 'Pin code': 731101}}, {'name': 'Abir', 'age': 23, 'location': {'city': 'Katwa', 'Pin code': 729002}}]\n"
     ]
    }
   ],
   "source": [
    "from yaml import Loader, Dumper\n",
    "yml_dump= yaml.dump(my_dict,Dumper=Dumper)\n",
    "print(my_dict)"
   ]
  },
  {
   "cell_type": "code",
   "execution_count": null,
   "id": "f8466525",
   "metadata": {},
   "outputs": [],
   "source": []
  }
 ],
 "metadata": {
  "kernelspec": {
   "display_name": "Python 3 (ipykernel)",
   "language": "python",
   "name": "python3"
  },
  "language_info": {
   "codemirror_mode": {
    "name": "ipython",
    "version": 3
   },
   "file_extension": ".py",
   "mimetype": "text/x-python",
   "name": "python",
   "nbconvert_exporter": "python",
   "pygments_lexer": "ipython3",
   "version": "3.10.9"
  }
 },
 "nbformat": 4,
 "nbformat_minor": 5
}
