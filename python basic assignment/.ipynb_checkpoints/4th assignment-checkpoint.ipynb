{
 "cells": [
  {
   "cell_type": "markdown",
   "id": "7f8d0f83",
   "metadata": {},
   "source": [
    "# 4th assignment"
   ]
  },
  {
   "cell_type": "markdown",
   "id": "a855cb3c",
   "metadata": {},
   "source": [
    "1.What exactly is []?\n",
    "\n",
    "ans. this is called square bracket . In python it is used to define list."
   ]
  },
  {
   "cell_type": "code",
   "execution_count": 1,
   "id": "9ad59269",
   "metadata": {},
   "outputs": [],
   "source": [
    "#e.g.\n",
    "values =[1,2,3,4]"
   ]
  },
  {
   "cell_type": "markdown",
   "id": "22b3da7f",
   "metadata": {},
   "source": [
    "2.In a list of values stored in a variable called spam, how would you assign the value 'hello' as the\n",
    "third value? (Assume [2, 4, 6, 8, 10] are in spam.)\n",
    "\n",
    "ans.  by spam[2]='hello'"
   ]
  },
  {
   "cell_type": "code",
   "execution_count": 9,
   "id": "a1280196",
   "metadata": {},
   "outputs": [],
   "source": [
    "spam=[2,4,6,8,10]\n",
    "spam[2]='hello'"
   ]
  },
  {
   "cell_type": "code",
   "execution_count": 10,
   "id": "5978dfa5",
   "metadata": {},
   "outputs": [
    {
     "name": "stdout",
     "output_type": "stream",
     "text": [
      "[2, 4, 'hello', 8, 10]\n"
     ]
    }
   ],
   "source": [
    "print(spam)"
   ]
  },
  {
   "cell_type": "markdown",
   "id": "542443d8",
   "metadata": {},
   "source": [
    "### Let's pretend the spam includes the list ['a','b','c','d'] for the next three queries."
   ]
  },
  {
   "cell_type": "code",
   "execution_count": 15,
   "id": "3b24f5e8",
   "metadata": {},
   "outputs": [],
   "source": [
    "spam=['a','b','c','d']"
   ]
  },
  {
   "cell_type": "markdown",
   "id": "a75e4a74",
   "metadata": {},
   "source": [
    " 3.What is the value of spam[int(int(&#39;3&#39; * 2) / 11)]?\n",
    " \n",
    " ans. int('3'*2) =33\n",
    "        33/11 =3\n",
    "        spam[3]=`'d'`"
   ]
  },
  {
   "cell_type": "code",
   "execution_count": 16,
   "id": "cd5f62d5",
   "metadata": {},
   "outputs": [
    {
     "name": "stdout",
     "output_type": "stream",
     "text": [
      " The value of spam[int(int('3' * 2) / 11)] is-> d\n"
     ]
    }
   ],
   "source": [
    "print(\" The value of spam[int(int('3' * 2) / 11)] is->\" , spam[int(int('3' * 2) / 11)])"
   ]
  },
  {
   "cell_type": "markdown",
   "id": "5149d92f",
   "metadata": {},
   "source": [
    "4.What is the value of spam[-1]?\n",
    "\n",
    "ans. Negetive index means it will start from last.For negetive index first index is -1.So -1 elenment of that list is `'d'`"
   ]
  },
  {
   "cell_type": "code",
   "execution_count": 18,
   "id": "6ea7d8e1",
   "metadata": {},
   "outputs": [
    {
     "name": "stdout",
     "output_type": "stream",
     "text": [
      "d\n"
     ]
    }
   ],
   "source": [
    "print(spam[-1])"
   ]
  },
  {
   "cell_type": "markdown",
   "id": "1366e61a",
   "metadata": {},
   "source": [
    "5.What is the value of spam[:2]?\n",
    "\n",
    "ans. this contains values till second index"
   ]
  },
  {
   "cell_type": "code",
   "execution_count": 24,
   "id": "14914b66",
   "metadata": {},
   "outputs": [
    {
     "name": "stdout",
     "output_type": "stream",
     "text": [
      "['a', 'b']\n"
     ]
    }
   ],
   "source": [
    "print(spam[:2])"
   ]
  },
  {
   "cell_type": "markdown",
   "id": "df6f2e3c",
   "metadata": {},
   "source": [
    "## Let&#39;s pretend bacon has the list [3.14, &#39;cat,&#39; 11, &#39;cat,&#39; True] for the next three questions."
   ]
  },
  {
   "cell_type": "code",
   "execution_count": 31,
   "id": "2654b7ba",
   "metadata": {},
   "outputs": [],
   "source": [
    "bacon=[3.14, 'cat', 11, 'cat', True]"
   ]
  },
  {
   "cell_type": "markdown",
   "id": "b0c8123a",
   "metadata": {},
   "source": [
    "6.. What is the value of bacon.index(&#39;cat&#39;)?\n",
    "\n",
    "ans. bacon.index('cat') This will take the first occurence of 'cat' i.e. 1"
   ]
  },
  {
   "cell_type": "code",
   "execution_count": 32,
   "id": "ce85320f",
   "metadata": {},
   "outputs": [
    {
     "name": "stdout",
     "output_type": "stream",
     "text": [
      "1\n"
     ]
    }
   ],
   "source": [
    "print(bacon.index('cat'))"
   ]
  },
  {
   "cell_type": "markdown",
   "id": "26977816",
   "metadata": {},
   "source": [
    "7.How does bacon.append(99) change the look of the list value in bacon?\n",
    "\n",
    "ans. In list `.append` is used to add element to existing list. So here bacon.append(99) will add 99 to the bacon list."
   ]
  },
  {
   "cell_type": "code",
   "execution_count": 33,
   "id": "e1112a56",
   "metadata": {},
   "outputs": [
    {
     "name": "stdout",
     "output_type": "stream",
     "text": [
      "[3.14, 'cat', 11, 'cat', True, 99]\n"
     ]
    }
   ],
   "source": [
    "bacon.append(99)\n",
    "print(bacon)"
   ]
  },
  {
   "cell_type": "markdown",
   "id": "7a1c0522",
   "metadata": {},
   "source": [
    "8.How does bacon.remove(&#39;cat&#39;) change the look of the list in bacon?\n",
    "\n",
    "ans. In list `.remove` is used to remove or erase that perticular element from that list. Here it will remove cat element.\n",
    "(*first occur element*)\n"
   ]
  },
  {
   "cell_type": "code",
   "execution_count": 34,
   "id": "43bcdee7",
   "metadata": {},
   "outputs": [
    {
     "name": "stdout",
     "output_type": "stream",
     "text": [
      "[3.14, 11, 'cat', True, 99]\n"
     ]
    }
   ],
   "source": [
    "bacon.remove('cat')\n",
    "print(bacon)"
   ]
  },
  {
   "cell_type": "markdown",
   "id": "22e035c6",
   "metadata": {},
   "source": [
    "9.What are the list concatenation and list replication operators?\n",
    "\n",
    "ans. Adding two separate list by `+` operator is called concatenation and if multiply `*` a list with integer it will use for replication "
   ]
  },
  {
   "cell_type": "code",
   "execution_count": 36,
   "id": "7f52bb62",
   "metadata": {},
   "outputs": [
    {
     "name": "stdout",
     "output_type": "stream",
     "text": [
      "['FSDS', 'FSDS 2.0']\n",
      "['FSDS', 'FSDS', 'FSDS']\n"
     ]
    }
   ],
   "source": [
    "list_1 =['FSDS']\n",
    "list_2=['FSDS 2.0']\n",
    "print(list_1+list_2) #list concatenation\n",
    "print(list_1*3) # list replication"
   ]
  },
  {
   "cell_type": "markdown",
   "id": "7943ba04",
   "metadata": {},
   "source": [
    "10.What is difference between the list methods append() and insert()?\n",
    "\n",
    "ans. Both are used for adding a element into the list. Using `apped()` it will add the element to the edn of the list. But with `insert()` it can insert element in specified index."
   ]
  },
  {
   "cell_type": "code",
   "execution_count": 39,
   "id": "3e6084b2",
   "metadata": {},
   "outputs": [],
   "source": [
    "list_1=[1,3,4,5,6]\n",
    "list_1.append(\"arka\")\n",
    "list_1.insert(1,2)"
   ]
  },
  {
   "cell_type": "code",
   "execution_count": 40,
   "id": "2cc137d7",
   "metadata": {},
   "outputs": [
    {
     "name": "stdout",
     "output_type": "stream",
     "text": [
      "[1, 2, 3, 4, 5, 6, 'arka']\n"
     ]
    }
   ],
   "source": [
    "print(list_1)"
   ]
  },
  {
   "cell_type": "markdown",
   "id": "3fed5723",
   "metadata": {},
   "source": [
    "11.What are the two methods for removing items from a list?\n",
    "\n",
    "ans. `del` and `remove`"
   ]
  },
  {
   "cell_type": "markdown",
   "id": "19e58716",
   "metadata": {},
   "source": [
    "12.Describe how list values and string values are identical.\n",
    "\n",
    "ans.  Both lists and strings can be passed to `len()` function, have indexes and slices, be used in `for` loops, be concatenated or replicated, and be used with the `in` and `not in` operators."
   ]
  },
  {
   "cell_type": "markdown",
   "id": "e0a12d6c",
   "metadata": {},
   "source": [
    "13.What&#39;s the difference between tuples and lists?\n",
    "\n",
    "ans. After declaration of a list it can be modify like add, remove.But in tuple, once it is defined it will not be able modify again.\n"
   ]
  },
  {
   "cell_type": "markdown",
   "id": "0d0da810",
   "metadata": {},
   "source": [
    "14.How do you type a tuple value that only contains the integer 42?\n",
    "\n",
    "ans. (42,)  ***tuple is an ordered sequence of values so if use (42) instead (42,) python will consider that as an integer value.***"
   ]
  },
  {
   "cell_type": "code",
   "execution_count": 41,
   "id": "f005f25b",
   "metadata": {},
   "outputs": [
    {
     "name": "stdout",
     "output_type": "stream",
     "text": [
      "<class 'int'>\n",
      "<class 'tuple'>\n"
     ]
    }
   ],
   "source": [
    "t_1=(42)\n",
    "t_2=(42,)\n",
    "print(type(t_1))\n",
    "print(type(t_2))"
   ]
  },
  {
   "cell_type": "markdown",
   "id": "ba2ec7bc",
   "metadata": {},
   "source": [
    "15.How do you get a list value&#39;s tuple form? How do you get a tuple value&#39;s list form? \n",
    "\n",
    "ans. `tuple()` and `list()` functions, respectively are used to convert a list to tuple and vice versa."
   ]
  },
  {
   "cell_type": "markdown",
   "id": "6259ab83",
   "metadata": {},
   "source": [
    "16.Variables that \"contain\" list values are not necessarily lists themselves. Instead, what do they contain? \n",
    "\n",
    "ans. reference to the list values."
   ]
  },
  {
   "cell_type": "markdown",
   "id": "900dcd87",
   "metadata": {},
   "source": [
    "17.How do you distinguish between copy.copy() and copy.deepcopy()?\n",
    "\n",
    "ans. The `copy.copy()` function will do a shallow copy of a list, while the `copy.deepcopy()` function will do a deep copy of a list. That is, only `copy.deepcopy()` will duplicate any lists inside the list."
   ]
  },
  {
   "cell_type": "code",
   "execution_count": null,
   "id": "10da33eb",
   "metadata": {},
   "outputs": [],
   "source": []
  }
 ],
 "metadata": {
  "kernelspec": {
   "display_name": "Python 3 (ipykernel)",
   "language": "python",
   "name": "python3"
  },
  "language_info": {
   "codemirror_mode": {
    "name": "ipython",
    "version": 3
   },
   "file_extension": ".py",
   "mimetype": "text/x-python",
   "name": "python",
   "nbconvert_exporter": "python",
   "pygments_lexer": "ipython3",
   "version": "3.10.9"
  }
 },
 "nbformat": 4,
 "nbformat_minor": 5
}
